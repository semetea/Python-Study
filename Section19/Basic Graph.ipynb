{
 "cells": [
  {
   "cell_type": "code",
   "execution_count": 14,
   "id": "9de36ac0",
   "metadata": {},
   "outputs": [],
   "source": [
    "# Making a basic Bokeh line graph\n",
    "# importing Bokeh\n",
    "from bokeh.plotting import figure\n",
    "from bokeh.io import output_file, show\n",
    "\n",
    "# prepare some data\n",
    "x = [1,2,3,4,5]\n",
    "y = [6,7,8,9,10]\n",
    "\n",
    "# prepare the output file\n",
    "output_file(\"Line.html\")\n",
    "\n",
    "# create a figure object\n",
    "f=figure()\n",
    "\n",
    "# create line plot\n",
    "f.line(x,y)\n",
    "\n",
    "# write the plot in the figure object\n",
    "show(f)"
   ]
  },
  {
   "cell_type": "code",
   "execution_count": 4,
   "id": "2fafda2d",
   "metadata": {},
   "outputs": [],
   "source": [
    "from bokeh.plotting import figure\n",
    "from bokeh.io import output_file, show\n",
    "import pandas\n",
    "\n",
    "df=pandas.read_csv(\"bachelors.csv\")\n",
    "x = df[\"Year\"]\n",
    "y = df[\"Engineering\"]\n",
    "\n",
    "# prepare the output file\n",
    "output_file(\"Line_from_bachelors.html\")\n",
    "\n",
    "# create a figure object\n",
    "f=figure()\n",
    "\n",
    "# create line plot\n",
    "f.line(x,y)\n",
    "\n",
    "# write the plot in the figure object\n",
    "show(f)"
   ]
  },
  {
   "cell_type": "code",
   "execution_count": 18,
   "id": "f8bed77d",
   "metadata": {},
   "outputs": [],
   "source": [
    "# Making a basic Bokeh line graph\n",
    "# importing Bokeh and pandas\n",
    "from bokeh.plotting import figure\n",
    "from bokeh.io import output_file, show\n",
    "import pandas\n",
    "\n",
    "# prepare some data\n",
    "df=pandas.read_excel(\"data.csv\")\n",
    "x = df[\"x\"]\n",
    "y = df[\"y\"]\n",
    "\n",
    "# prepare the output file\n",
    "output_file(\"Line_from_csv.html\")\n",
    "\n",
    "# create a figure object\n",
    "f=figure()\n",
    "\n",
    "# create line plot\n",
    "f.line(x,y)\n",
    "\n",
    "# write the plot in the figure object\n",
    "show(f)"
   ]
  },
  {
   "cell_type": "code",
   "execution_count": 31,
   "id": "9de8bb69",
   "metadata": {},
   "outputs": [],
   "source": [
    "from bokeh.plotting import figure\n",
    "from bokeh.io import output_file, show\n",
    "import pandas\n",
    "\n",
    "df=pandas.read_excel(\"https://github.com/pythonizing/data/raw/master/verlegenhuken.xlsx\")\n",
    "x = df[\"Temperature\"]\n",
    "y = df[\"Pressure\"]\n",
    "\n",
    "output_file(\"Line_from_weather.html\")\n",
    "\n",
    "# create a figure object\n",
    "f=figure()\n",
    "\n",
    "f.title.text=\"Temperature and Air Pressure\"\n",
    "f.title.text_color=\"Gray\"\n",
    "f.title.text_font=\"arial\"\n",
    "f.title.text_font_style=\"bold\"\n",
    "f.xaxis.minor_tick_line_color=None\n",
    "f.yaxis.minor_tick_line_color=None\n",
    "f.xaxis.axis_label = \"Temperature\"\n",
    "f.yaxis.axis_label = \"Pressure\"\n",
    "\n",
    "# create line plot\n",
    "f.dot(x/10,y/10, size=10)\n",
    "\n",
    "# write the plot in the figure object\n",
    "show(f)"
   ]
  },
  {
   "cell_type": "code",
   "execution_count": 5,
   "id": "0fec27d1",
   "metadata": {},
   "outputs": [],
   "source": [
    "from bokeh.plotting import figure, output_file, show\n",
    "p = figure(plot_width=500, plot_height=400, tools = 'pan, reset')\n",
    "p.title.text = \"Earthquakes\"\n",
    "p.title.text_color = \"Orange\"\n",
    "p.title.text_font = \"times\"\n",
    "p.title.text_font_style = \"italic\"\n",
    "p.yaxis.minor_tick_line_color = \"Yellow\"\n",
    "p.xaxis.axis_label = \"Times\"\n",
    "p.yaxis.axis_label = \"Value\"\n",
    "p.line([1,2,3,4,5], [5,6,5,5,3], line_width=2, color=\"red\", alpha=0.5)\n",
    "p.circle([i*2 for i in [1,2,3,4,5]], [5,6,5,5,3], size = 8, color=\"olive\", alpha=0.5)\n",
    "output_file(\"Scatter_plotting.html\")\n",
    "show(p)\n"
   ]
  },
  {
   "cell_type": "code",
   "execution_count": 2,
   "id": "a30597d9",
   "metadata": {},
   "outputs": [],
   "source": [
    "from bokeh.plotting import figure, output_file, show\n",
    "import pandas\n",
    "\n",
    "df=pandas.read_csv(\"adbe.csv\", parse_dates=[\"Date\"])\n",
    "\n",
    "p=figure(width=500, height=250, x_axis_type=\"datetime\", sizing_mode=\"scale_both\")\n",
    "\n",
    "p.line(df[\"Date\"], df[\"Close\"], color=\"Orange\", alpha=0.5)\n",
    "\n",
    "output_file(\"Timeseries.html\")\n",
    "show(p)"
   ]
  },
  {
   "cell_type": "code",
   "execution_count": null,
   "id": "9111c42a",
   "metadata": {},
   "outputs": [],
   "source": [
    "\n"
   ]
  }
 ],
 "metadata": {
  "kernelspec": {
   "display_name": "Python 3 (ipykernel)",
   "language": "python",
   "name": "python3"
  },
  "language_info": {
   "codemirror_mode": {
    "name": "ipython",
    "version": 3
   },
   "file_extension": ".py",
   "mimetype": "text/x-python",
   "name": "python",
   "nbconvert_exporter": "python",
   "pygments_lexer": "ipython3",
   "version": "3.10.5"
  }
 },
 "nbformat": 4,
 "nbformat_minor": 5
}
