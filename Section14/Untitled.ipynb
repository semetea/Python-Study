{
 "cells": [
  {
   "cell_type": "code",
   "execution_count": 1,
   "id": "5c12ddc8",
   "metadata": {},
   "outputs": [
    {
     "data": {
      "text/plain": [
       "[[123, 12, 123, 12, 33], [], []]"
      ]
     },
     "execution_count": 1,
     "metadata": {},
     "output_type": "execute_result"
    }
   ],
   "source": [
    "[[123,12,123,12,33],[],[]]"
   ]
  },
  {
   "cell_type": "code",
   "execution_count": 2,
   "id": "1bb47f61",
   "metadata": {},
   "outputs": [],
   "source": [
    "import numpy\n",
    "n=numpy.arange(27)"
   ]
  },
  {
   "cell_type": "code",
   "execution_count": 3,
   "id": "45c7ce0c",
   "metadata": {},
   "outputs": [
    {
     "data": {
      "text/plain": [
       "array([ 0,  1,  2,  3,  4,  5,  6,  7,  8,  9, 10, 11, 12, 13, 14, 15, 16,\n",
       "       17, 18, 19, 20, 21, 22, 23, 24, 25, 26])"
      ]
     },
     "execution_count": 3,
     "metadata": {},
     "output_type": "execute_result"
    }
   ],
   "source": [
    "n"
   ]
  },
  {
   "cell_type": "code",
   "execution_count": null,
   "id": "7e18005e",
   "metadata": {},
   "outputs": [],
   "source": [
    "n.reshape(3,9)"
   ]
  }
 ],
 "metadata": {
  "kernelspec": {
   "display_name": "Python 3 (ipykernel)",
   "language": "python",
   "name": "python3"
  },
  "language_info": {
   "codemirror_mode": {
    "name": "ipython",
    "version": 3
   },
   "file_extension": ".py",
   "mimetype": "text/x-python",
   "name": "python",
   "nbconvert_exporter": "python",
   "pygments_lexer": "ipython3",
   "version": "3.10.5"
  }
 },
 "nbformat": 4,
 "nbformat_minor": 5
}
